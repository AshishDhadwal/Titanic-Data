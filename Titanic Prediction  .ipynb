{
 "cells": [
  {
   "cell_type": "code",
   "execution_count": 110,
   "metadata": {},
   "outputs": [],
   "source": [
    "\n",
    "import numpy as np\n",
    "import pandas as pd\n",
    "\n",
    "#visualization libraries\n",
    "import matplotlib.pyplot as plt\n",
    "import seaborn as sns\n",
    "%matplotlib inline\n",
    "\n",
    "#ignore warnings\n",
    "import warnings\n",
    "warnings.filterwarnings('ignore')\n"
   ]
  },
  {
   "cell_type": "code",
   "execution_count": 111,
   "metadata": {},
   "outputs": [],
   "source": [
    "#import train and test CSV files\n",
    "training= pd.read_csv(\"train.csv\")\n",
    "testing = pd.read_csv(\"test.csv\")\n",
    "\n"
   ]
  },
  {
   "cell_type": "code",
   "execution_count": 112,
   "metadata": {},
   "outputs": [
    {
     "name": "stdout",
     "output_type": "stream",
     "text": [
      "Training Data Frame\n",
      "PassengerId      0\n",
      "Survived         0\n",
      "Pclass           0\n",
      "Name             0\n",
      "Sex              0\n",
      "Age            177\n",
      "SibSp            0\n",
      "Parch            0\n",
      "Ticket           0\n",
      "Fare             0\n",
      "Cabin          687\n",
      "Embarked         2\n",
      "dtype: int64\n",
      " \n",
      "Testing Data Frame\n",
      "PassengerId      0\n",
      "Pclass           0\n",
      "Name             0\n",
      "Sex              0\n",
      "Age             86\n",
      "SibSp            0\n",
      "Parch            0\n",
      "Ticket           0\n",
      "Fare             1\n",
      "Cabin          327\n",
      "Embarked         0\n",
      "dtype: int64\n"
     ]
    }
   ],
   "source": [
    "def null_table(training, testing):\n",
    "    print(\"Training Data Frame\")\n",
    "    print(pd.isnull(training).sum()) \n",
    "    print(\" \")\n",
    "    print(\"Testing Data Frame\")\n",
    "    print(pd.isnull(testing).sum())\n",
    "\n",
    "null_table(training, testing)"
   ]
  },
  {
   "cell_type": "code",
   "execution_count": 113,
   "metadata": {},
   "outputs": [],
   "source": [
    "training.drop(labels = [\"Cabin\", \"Ticket\"], axis = 1, inplace = True)\n",
    "testing.drop(labels = [\"Cabin\", \"Ticket\"], axis = 1, inplace = True)"
   ]
  },
  {
   "cell_type": "code",
   "execution_count": 114,
   "metadata": {},
   "outputs": [
    {
     "data": {
      "text/plain": [
       "<matplotlib.axes._subplots.AxesSubplot at 0xc01b7f0>"
      ]
     },
     "execution_count": 114,
     "metadata": {},
     "output_type": "execute_result"
    },
    {
     "data": {
      "image/png": "[encoded data removed]",
      "text/plain": [
       "<Figure size 432x288 with 1 Axes>"
      ]
     },
     "metadata": {},
     "output_type": "display_data"
    }
   ],
   "source": [
    "copy = training.copy()\n",
    "copy.dropna(inplace = True)\n",
    "sns.distplot(copy[\"Age\"])"
   ]
  },
  {
   "cell_type": "code",
   "execution_count": 115,
   "metadata": {},
   "outputs": [
    {
     "name": "stdout",
     "output_type": "stream",
     "text": [
      "Training Data Frame\n",
      "PassengerId    0\n",
      "Survived       0\n",
      "Pclass         0\n",
      "Name           0\n",
      "Sex            0\n",
      "Age            0\n",
      "SibSp          0\n",
      "Parch          0\n",
      "Fare           0\n",
      "Embarked       0\n",
      "dtype: int64\n",
      " \n",
      "Testing Data Frame\n",
      "PassengerId    0\n",
      "Pclass         0\n",
      "Name           0\n",
      "Sex            0\n",
      "Age            0\n",
      "SibSp          0\n",
      "Parch          0\n",
      "Fare           0\n",
      "Embarked       0\n",
      "dtype: int64\n"
     ]
    }
   ],
   "source": [
    "#the median will be an acceptable value to place in the NaN cells\n",
    "training[\"Age\"].fillna(training[\"Age\"].median(), inplace = True)\n",
    "testing[\"Age\"].fillna(testing[\"Age\"].median(), inplace = True) \n",
    "training[\"Embarked\"].fillna(\"S\", inplace = True)\n",
    "testing[\"Fare\"].fillna(testing[\"Fare\"].median(), inplace = True)\n",
    "null_table(training, testing)"
   ]
  },
  {
   "cell_type": "code",
   "execution_count": 116,
   "metadata": {},
   "outputs": [
    {
     "data": {
      "text/plain": [
       "{'C', 'Q', 'S'}"
      ]
     },
     "execution_count": 116,
     "metadata": {},
     "output_type": "execute_result"
    }
   ],
   "source": [
    "set(training[\"Embarked\"])"
   ]
  },
  {
   "cell_type": "code",
   "execution_count": 117,
   "metadata": {},
   "outputs": [
    {
     "data": {
      "text/html": [
       "<div>\n",
       "<style scoped>\n",
       "    .dataframe tbody tr th:only-of-type {\n",
       "        vertical-align: middle;\n",
       "    }\n",
       "\n",
       "    .dataframe tbody tr th {\n",
       "        vertical-align: top;\n",
       "    }\n",
       "\n",
       "    .dataframe thead th {\n",
       "        text-align: right;\n",
       "    }\n",
       "</style>\n",
       "<table border=\"1\" class=\"dataframe\">\n",
       "  <thead>\n",
       "    <tr style=\"text-align: right;\">\n",
       "      <th></th>\n",
       "      <th>PassengerId</th>\n",
       "      <th>Survived</th>\n",
       "      <th>Pclass</th>\n",
       "      <th>Name</th>\n",
       "      <th>Sex</th>\n",
       "      <th>Age</th>\n",
       "      <th>SibSp</th>\n",
       "      <th>Parch</th>\n",
       "      <th>Fare</th>\n",
       "      <th>Embarked</th>\n",
       "    </tr>\n",
       "  </thead>\n",
       "  <tbody>\n",
       "    <tr>\n",
       "      <th>823</th>\n",
       "      <td>824</td>\n",
       "      <td>1</td>\n",
       "      <td>3</td>\n",
       "      <td>Moor, Mrs. (Beila)</td>\n",
       "      <td>1</td>\n",
       "      <td>27.0</td>\n",
       "      <td>0</td>\n",
       "      <td>1</td>\n",
       "      <td>12.4750</td>\n",
       "      <td>0</td>\n",
       "    </tr>\n",
       "    <tr>\n",
       "      <th>841</th>\n",
       "      <td>842</td>\n",
       "      <td>0</td>\n",
       "      <td>2</td>\n",
       "      <td>Mudd, Mr. Thomas Charles</td>\n",
       "      <td>0</td>\n",
       "      <td>16.0</td>\n",
       "      <td>0</td>\n",
       "      <td>0</td>\n",
       "      <td>10.5000</td>\n",
       "      <td>0</td>\n",
       "    </tr>\n",
       "    <tr>\n",
       "      <th>643</th>\n",
       "      <td>644</td>\n",
       "      <td>1</td>\n",
       "      <td>3</td>\n",
       "      <td>Foo, Mr. Choong</td>\n",
       "      <td>0</td>\n",
       "      <td>28.0</td>\n",
       "      <td>0</td>\n",
       "      <td>0</td>\n",
       "      <td>56.4958</td>\n",
       "      <td>0</td>\n",
       "    </tr>\n",
       "    <tr>\n",
       "      <th>541</th>\n",
       "      <td>542</td>\n",
       "      <td>0</td>\n",
       "      <td>3</td>\n",
       "      <td>Andersson, Miss. Ingeborg Constanzia</td>\n",
       "      <td>1</td>\n",
       "      <td>9.0</td>\n",
       "      <td>4</td>\n",
       "      <td>2</td>\n",
       "      <td>31.2750</td>\n",
       "      <td>0</td>\n",
       "    </tr>\n",
       "    <tr>\n",
       "      <th>665</th>\n",
       "      <td>666</td>\n",
       "      <td>0</td>\n",
       "      <td>2</td>\n",
       "      <td>Hickman, Mr. Lewis</td>\n",
       "      <td>0</td>\n",
       "      <td>32.0</td>\n",
       "      <td>2</td>\n",
       "      <td>0</td>\n",
       "      <td>73.5000</td>\n",
       "      <td>0</td>\n",
       "    </tr>\n",
       "  </tbody>\n",
       "</table>\n",
       "</div>"
      ],
      "text/plain": [
       "     PassengerId  Survived  Pclass                                  Name  Sex  \\\n",
       "823          824         1       3                    Moor, Mrs. (Beila)    1   \n",
       "841          842         0       2              Mudd, Mr. Thomas Charles    0   \n",
       "643          644         1       3                       Foo, Mr. Choong    0   \n",
       "541          542         0       3  Andersson, Miss. Ingeborg Constanzia    1   \n",
       "665          666         0       2                    Hickman, Mr. Lewis    0   \n",
       "\n",
       "      Age  SibSp  Parch     Fare  Embarked  \n",
       "823  27.0      0      1  12.4750         0  \n",
       "841  16.0      0      0  10.5000         0  \n",
       "643  28.0      0      0  56.4958         0  \n",
       "541   9.0      4      2  31.2750         0  \n",
       "665  32.0      2      0  73.5000         0  "
      ]
     },
     "execution_count": 117,
     "metadata": {},
     "output_type": "execute_result"
    }
   ],
   "source": [
    "training.loc[training[\"Sex\"] == \"male\", \"Sex\"] = 0\n",
    "training.loc[training[\"Sex\"] == \"female\", \"Sex\"] = 1\n",
    "\n",
    "training.loc[training[\"Embarked\"] == \"S\", \"Embarked\"] = 0\n",
    "training.loc[training[\"Embarked\"] == \"C\", \"Embarked\"] = 1\n",
    "training.loc[training[\"Embarked\"] == \"Q\", \"Embarked\"] = 2\n",
    "\n",
    "testing.loc[testing[\"Sex\"] == \"male\", \"Sex\"] = 0\n",
    "testing.loc[testing[\"Sex\"] == \"female\", \"Sex\"] = 1\n",
    "\n",
    "testing.loc[testing[\"Embarked\"] == \"S\", \"Embarked\"] = 0\n",
    "testing.loc[testing[\"Embarked\"] == \"C\", \"Embarked\"] = 1\n",
    "testing.loc[testing[\"Embarked\"] == \"Q\", \"Embarked\"] = 2\n",
    "training.sample(5)\n"
   ]
  },
  {
   "cell_type": "code",
   "execution_count": 118,
   "metadata": {},
   "outputs": [],
   "source": [
    "#replacing the missing values in the Embarked feature with S\n",
    "training[\"FamSize\"] = training[\"SibSp\"] + training[\"Parch\"] + 1\n",
    "testing[\"FamSize\"] = testing[\"SibSp\"] + testing[\"Parch\"] + 1"
   ]
  },
  {
   "cell_type": "code",
   "execution_count": 119,
   "metadata": {},
   "outputs": [],
   "source": [
    "training[\"IsAlone\"] = training.FamSize.apply(lambda x: 1 if x == 1 else 0)\n",
    "testing[\"IsAlone\"] = testing.FamSize.apply(lambda x: 1 if x == 1 else 0)"
   ]
  },
  {
   "cell_type": "code",
   "execution_count": 120,
   "metadata": {},
   "outputs": [],
   "source": [
    "for name in training[\"Name\"]:\n",
    "    training[\"Title\"] = training[\"Name\"].str.extract(\"([A-Za-z]+)\\.\",expand=True)\n",
    "    \n",
    "for name in testing[\"Name\"]:\n",
    "    testing[\"Title\"] = testing[\"Name\"].str.extract(\"([A-Za-z]+)\\.\",expand=True)"
   ]
  },
  {
   "cell_type": "code",
   "execution_count": 121,
   "metadata": {
    "scrolled": true
   },
   "outputs": [
    {
     "name": "stdout",
     "output_type": "stream",
     "text": [
      "{'Don', 'Capt', 'Mlle', 'Mrs', 'Ms', 'Rev', 'Lady', 'Countess', 'Sir', 'Major', 'Master', 'Mr', 'Mme', 'Col', 'Miss', 'Dr', 'Jonkheer'}\n"
     ]
    }
   ],
   "source": [
    "titles = set(training[\"Title\"]) #making it a set gets rid of all duplicates\n",
    "print(titles)"
   ]
  },
  {
   "cell_type": "code",
   "execution_count": null,
   "metadata": {},
   "outputs": [],
   "source": []
  },
  {
   "cell_type": "code",
   "execution_count": 122,
   "metadata": {},
   "outputs": [
    {
     "name": "stdout",
     "output_type": "stream",
     "text": [
      "[1, 1, 2, 125, 1, 6, 1, 1, 1, 2, 40, 517, 1, 2, 182, 7, 1]\n"
     ]
    }
   ],
   "source": [
    "title_list = list(training[\"Title\"])\n",
    "frequency_titles = []\n",
    "\n",
    "for i in titles:\n",
    "    frequency_titles.append(title_list.count(i))\n",
    "    \n",
    "print(frequency_titles)"
   ]
  },
  {
   "cell_type": "code",
   "execution_count": 123,
   "metadata": {},
   "outputs": [
    {
     "name": "stdout",
     "output_type": "stream",
     "text": [
      "      Titles  Frequency\n",
      "0        Don          1\n",
      "1       Capt          1\n",
      "2       Mlle          2\n",
      "3        Mrs        125\n",
      "4         Ms          1\n",
      "5        Rev          6\n",
      "6       Lady          1\n",
      "7   Countess          1\n",
      "8        Sir          1\n",
      "9      Major          2\n",
      "10    Master         40\n",
      "11        Mr        517\n",
      "12       Mme          1\n",
      "13       Col          2\n",
      "14      Miss        182\n",
      "15        Dr          7\n",
      "16  Jonkheer          1\n"
     ]
    }
   ],
   "source": [
    "titles = list(titles)\n",
    "\n",
    "title_dataframe = pd.DataFrame({\n",
    "    \"Titles\" : titles,\n",
    "    \"Frequency\" : frequency_titles\n",
    "})\n",
    "\n",
    "print(title_dataframe)"
   ]
  },
  {
   "cell_type": "code",
   "execution_count": 124,
   "metadata": {},
   "outputs": [],
   "source": [
    "title_replacements = {\"Mlle\": \"Other\", \"Major\": \"Other\", \"Col\": \"Other\", \"Sir\": \"Other\", \"Don\": \"Other\", \"Mme\": \"Other\",\n",
    "          \"Jonkheer\": \"Other\", \"Lady\": \"Other\", \"Capt\": \"Other\", \"Countess\": \"Other\", \"Ms\": \"Other\", \"Dona\": \"Other\"}\n",
    "\n",
    "training.replace({\"Title\": title_replacements}, inplace=True)\n",
    "testing.replace({\"Title\": title_replacements}, inplace=True)\n",
    "\n",
    "training.loc[training[\"Title\"] == \"Miss\", \"Title\"] = 0\n",
    "training.loc[training[\"Title\"] == \"Mr\", \"Title\"] = 1\n",
    "training.loc[training[\"Title\"] == \"Mrs\", \"Title\"] = 2\n",
    "training.loc[training[\"Title\"] == \"Master\", \"Title\"] = 3\n",
    "training.loc[training[\"Title\"] == \"Dr\", \"Title\"] = 4\n",
    "training.loc[training[\"Title\"] == \"Rev\", \"Title\"] = 5\n",
    "training.loc[training[\"Title\"] == \"Other\", \"Title\"] = 6\n",
    "\n",
    "testing.loc[testing[\"Title\"] == \"Miss\", \"Title\"] = 0\n",
    "testing.loc[testing[\"Title\"] == \"Mr\", \"Title\"] = 1\n",
    "testing.loc[testing[\"Title\"] == \"Mrs\", \"Title\"] = 2\n",
    "testing.loc[testing[\"Title\"] == \"Master\", \"Title\"] = 3\n",
    "testing.loc[testing[\"Title\"] == \"Dr\", \"Title\"] = 4\n",
    "testing.loc[testing[\"Title\"] == \"Rev\", \"Title\"] = 5\n",
    "testing.loc[testing[\"Title\"] == \"Other\", \"Title\"] = 6"
   ]
  },
  {
   "cell_type": "code",
   "execution_count": 125,
   "metadata": {},
   "outputs": [],
   "source": [
    "training.drop(\"Name\", axis = 1, inplace = True)\n",
    "testing.drop(\"Name\", axis = 1, inplace = True)"
   ]
  },
  {
   "cell_type": "code",
   "execution_count": 126,
   "metadata": {},
   "outputs": [],
   "source": [
    "#ore representative. We will do this with sklearn's MinMaxScaler function. This function also requires us to reshape our data so that it accepts the input. The steps are shown below.\n",
    "\n",
    "from sklearn.preprocessing import MinMaxScaler\n",
    "\n",
    "scaler = MinMaxScaler()\n",
    "\n",
    "#scaler requires arguments to be in a specific format shown below\n",
    "#convert columns into numpy arrays and reshape them \n",
    "ages_train = np.array(training[\"Age\"]).reshape(-1, 1)\n",
    "fares_train = np.array(training[\"Fare\"]).reshape(-1, 1)\n",
    "ages_test = np.array(testing[\"Age\"]).reshape(-1, 1)\n",
    "fares_test = np.array(testing[\"Fare\"]).reshape(-1, 1)\n",
    "\n",
    "#we replace the original column with the transformed/scaled values\n",
    "training[\"Age\"] = scaler.fit_transform(ages_train)\n",
    "training[\"Fare\"] = scaler.fit_transform(fares_train)\n",
    "testing[\"Age\"] = scaler.fit_transform(ages_test)\n",
    "testing[\"Fare\"] = scaler.fit_transform(fares_test)"
   ]
  },
  {
   "cell_type": "code",
   "execution_count": 127,
   "metadata": {},
   "outputs": [],
   "source": [
    "from sklearn.ensemble import RandomForestClassifier\n",
    "from sklearn.linear_model import LogisticRegression"
   ]
  },
  {
   "cell_type": "code",
   "execution_count": 128,
   "metadata": {},
   "outputs": [],
   "source": [
    "from sklearn.metrics import make_scorer, accuracy_score "
   ]
  },
  {
   "cell_type": "code",
   "execution_count": 129,
   "metadata": {},
   "outputs": [],
   "source": [
    "from sklearn.model_selection import GridSearchCV"
   ]
  },
  {
   "cell_type": "code",
   "execution_count": 130,
   "metadata": {},
   "outputs": [],
   "source": [
    "X_train = training.drop(labels=[\"PassengerId\", \"Survived\"], axis=1) #define training features set\n",
    "y_train = training[\"Survived\"] #define training label set\n",
    "X_test = testing.drop(\"PassengerId\", axis=1)"
   ]
  },
  {
   "cell_type": "code",
   "execution_count": 131,
   "metadata": {},
   "outputs": [],
   "source": [
    "from sklearn.model_selection import train_test_split #to create validation data set\n",
    "\n",
    "X_training, X_valid, y_training, y_valid = train_test_split(X_train, y_train, test_size=0.30, random_state=101) #X_valid and y_valid are the validation set"
   ]
  },
  {
   "cell_type": "code",
   "execution_count": 132,
   "metadata": {},
   "outputs": [],
   "source": [
    "from sklearn.linear_model import LogisticRegression"
   ]
  },
  {
   "cell_type": "code",
   "execution_count": null,
   "metadata": {},
   "outputs": [],
   "source": []
  },
  {
   "cell_type": "code",
   "execution_count": 133,
   "metadata": {},
   "outputs": [
    {
     "name": "stdout",
     "output_type": "stream",
     "text": [
      "The Score for Logistic Regression is: 0.7910447761194029\n"
     ]
    }
   ],
   "source": [
    "parameters_logreg = {\"penalty\": [\"l2\"], \"fit_intercept\": [True, False], \"solver\": [\"newton-cg\", \"lbfgs\", \"liblinear\", \"sag\", \"saga\"],\n",
    "                     \"max_iter\": [50, 100, 200], \"warm_start\": [True, False]}\n",
    "\n",
    "grid_logreg = GridSearchCV(logreg_clf, parameters_logreg, scoring=make_scorer(accuracy_score))\n",
    "grid_logreg.fit(X_training, y_training)\n",
    "\n",
    "logreg_clf = grid_logreg.best_estimator_\n",
    "\n",
    "logreg_clf.fit(X_training, y_training)\n",
    "pred_logreg = logreg_clf.predict(X_valid)\n",
    "acc_logreg = accuracy_score(y_valid, pred_logreg)\n",
    "\n",
    "print(\"The Score for Logistic Regression is: \" + str(acc_logreg))"
   ]
  },
  {
   "cell_type": "code",
   "execution_count": null,
   "metadata": {},
   "outputs": [],
   "source": []
  },
  {
   "cell_type": "code",
   "execution_count": null,
   "metadata": {},
   "outputs": [],
   "source": []
  },
  {
   "cell_type": "code",
   "execution_count": 136,
   "metadata": {},
   "outputs": [],
   "source": [
    "from sklearn.metrics import classification_report"
   ]
  },
  {
   "cell_type": "code",
   "execution_count": 137,
   "metadata": {},
   "outputs": [
    {
     "name": "stdout",
     "output_type": "stream",
     "text": [
      "             precision    recall  f1-score   support\n",
      "\n",
      "          0       0.78      0.89      0.83       154\n",
      "          1       0.82      0.66      0.73       114\n",
      "\n",
      "avg / total       0.79      0.79      0.79       268\n",
      "\n"
     ]
    }
   ],
   "source": [
    "print(classification_report(y_valid,pred_logreg))"
   ]
  },
  {
   "cell_type": "code",
   "execution_count": 138,
   "metadata": {},
   "outputs": [],
   "source": [
    "rfc = RandomForestClassifier(n_estimators=200)"
   ]
  },
  {
   "cell_type": "code",
   "execution_count": 139,
   "metadata": {},
   "outputs": [
    {
     "data": {
      "text/plain": [
       "RandomForestClassifier(bootstrap=True, class_weight=None, criterion='gini',\n",
       "            max_depth=None, max_features='auto', max_leaf_nodes=None,\n",
       "            min_impurity_decrease=0.0, min_impurity_split=None,\n",
       "            min_samples_leaf=1, min_samples_split=2,\n",
       "            min_weight_fraction_leaf=0.0, n_estimators=200, n_jobs=1,\n",
       "            oob_score=False, random_state=None, verbose=0,\n",
       "            warm_start=False)"
      ]
     },
     "execution_count": 139,
     "metadata": {},
     "output_type": "execute_result"
    }
   ],
   "source": [
    "rfc.fit(X_train,y_train)"
   ]
  },
  {
   "cell_type": "code",
   "execution_count": 140,
   "metadata": {},
   "outputs": [],
   "source": [
    "rfc_pred = rfc.predict(X_valid)"
   ]
  },
  {
   "cell_type": "code",
   "execution_count": 141,
   "metadata": {},
   "outputs": [],
   "source": [
    "acc_rfc= round(accuracy_score(y_valid,rfc_pred)* 100, 2)"
   ]
  },
  {
   "cell_type": "code",
   "execution_count": 142,
   "metadata": {},
   "outputs": [
    {
     "data": {
      "text/plain": [
       "98.51"
      ]
     },
     "execution_count": 142,
     "metadata": {},
     "output_type": "execute_result"
    }
   ],
   "source": [
    "acc_rfc"
   ]
  },
  {
   "cell_type": "code",
   "execution_count": 147,
   "metadata": {},
   "outputs": [
    {
     "name": "stdout",
     "output_type": "stream",
     "text": [
      "             precision    recall  f1-score   support\n",
      "\n",
      "          0       0.97      1.00      0.99       154\n",
      "          1       1.00      0.96      0.98       114\n",
      "\n",
      "avg / total       0.99      0.99      0.99       268\n",
      "\n"
     ]
    }
   ],
   "source": [
    "print(classification_report(y_valid,rfc_pred))"
   ]
  },
  {
   "cell_type": "code",
   "execution_count": 148,
   "metadata": {},
   "outputs": [],
   "source": [
    "submission = rfc.predict(X_test)"
   ]
  },
  {
   "cell_type": "code",
   "execution_count": 149,
   "metadata": {},
   "outputs": [],
   "source": [
    "submission = pd.DataFrame({\n",
    "        \"PassengerId\": testing[\"PassengerId\"],\n",
    "        \"Survived\": submission\n",
    "    })"
   ]
  },
  {
   "cell_type": "code",
   "execution_count": 150,
   "metadata": {},
   "outputs": [
    {
     "name": "stdout",
     "output_type": "stream",
     "text": [
      "(418, 2)\n"
     ]
    }
   ],
   "source": [
    "submission.to_csv(\"titanic.csv\", index=False)\n",
    "print(submission.shape)"
   ]
  },
  {
   "cell_type": "code",
   "execution_count": null,
   "metadata": {},
   "outputs": [],
   "source": []
  }
 ],
 "metadata": {
  "kernelspec": {
   "display_name": "Python 3",
   "language": "python",
   "name": "python3"
  },
  "language_info": {
   "codemirror_mode": {
    "name": "ipython",
    "version": 3
   },
   "file_extension": ".py",
   "mimetype": "text/x-python",
   "name": "python",
   "nbconvert_exporter": "python",
   "pygments_lexer": "ipython3",
   "version": "3.6.5"
  }
 },
 "nbformat": 4,
 "nbformat_minor": 2
}
